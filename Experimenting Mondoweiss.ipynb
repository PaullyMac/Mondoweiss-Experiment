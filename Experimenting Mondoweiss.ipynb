{
 "cells": [
  {
   "attachments": {},
   "cell_type": "markdown",
   "metadata": {},
   "source": [
    "# Experimenting Mondoweiss File"
   ]
  },
  {
   "cell_type": "code",
   "execution_count": 59,
   "metadata": {},
   "outputs": [],
   "source": [
    "import pandas as pd\n",
    "import numpy as np"
   ]
  },
  {
   "attachments": {},
   "cell_type": "markdown",
   "metadata": {},
   "source": [
    "**Storing in variable df**"
   ]
  },
  {
   "cell_type": "code",
   "execution_count": 60,
   "metadata": {},
   "outputs": [],
   "source": [
    "df = pd.read_csv(\"mondoweiss-20k-articles.csv\")"
   ]
  },
  {
   "attachments": {},
   "cell_type": "markdown",
   "metadata": {},
   "source": [
    "**View First 5 rows of the dataframe df**"
   ]
  },
  {
   "cell_type": "code",
   "execution_count": 61,
   "metadata": {},
   "outputs": [
    {
     "data": {
      "text/html": [
       "<div>\n",
       "<style scoped>\n",
       "    .dataframe tbody tr th:only-of-type {\n",
       "        vertical-align: middle;\n",
       "    }\n",
       "\n",
       "    .dataframe tbody tr th {\n",
       "        vertical-align: top;\n",
       "    }\n",
       "\n",
       "    .dataframe thead th {\n",
       "        text-align: right;\n",
       "    }\n",
       "</style>\n",
       "<table border=\"1\" class=\"dataframe\">\n",
       "  <thead>\n",
       "    <tr style=\"text-align: right;\">\n",
       "      <th></th>\n",
       "      <th>url</th>\n",
       "      <th>title</th>\n",
       "      <th>sub_title</th>\n",
       "      <th>author</th>\n",
       "      <th>author_link</th>\n",
       "      <th>article</th>\n",
       "    </tr>\n",
       "  </thead>\n",
       "  <tbody>\n",
       "    <tr>\n",
       "      <th>0</th>\n",
       "      <td>https://mondoweiss.net/2023/02/with-frequent-p...</td>\n",
       "      <td>With frequent power cuts, winters in Gaza can ...</td>\n",
       "      <td>During Gaza's cold winter months, the absence ...</td>\n",
       "      <td>Tareq S. Hajjaj</td>\n",
       "      <td>https://mondoweiss.net/author/tareqhajjaj/</td>\n",
       "      <td>It is 11:00 p.m. on a cold and dry evening eas...</td>\n",
       "    </tr>\n",
       "    <tr>\n",
       "      <th>1</th>\n",
       "      <td>https://mondoweiss.net/2023/02/israeli-soldier...</td>\n",
       "      <td>Israeli soldiers kill 16-year-old for throwing...</td>\n",
       "      <td>Hamza Ashqar, 16, reportedly threw a piece of ...</td>\n",
       "      <td>Yumna Patel</td>\n",
       "      <td>https://mondoweiss.net/author/yumnapatel/</td>\n",
       "      <td>A 16-year-old Palestinian boy was shot and kil...</td>\n",
       "    </tr>\n",
       "    <tr>\n",
       "      <th>2</th>\n",
       "      <td>https://mondoweiss.net/2023/02/palestinian-ref...</td>\n",
       "      <td>Palestinian refugees among the dead in Syria, ...</td>\n",
       "      <td>As the death toll from a devastating earthquak...</td>\n",
       "      <td>Yumna Patel</td>\n",
       "      <td>https://mondoweiss.net/author/yumnapatel/</td>\n",
       "      <td>As the death toll from Monday’s devastating ea...</td>\n",
       "    </tr>\n",
       "    <tr>\n",
       "      <th>3</th>\n",
       "      <td>https://mondoweiss.net/2023/02/israeli-army-ki...</td>\n",
       "      <td>Israeli army kills 5 Palestinians in raid of A...</td>\n",
       "      <td>After a ten-day siege imposed on Jericho and i...</td>\n",
       "      <td>Mariam Barghouti</td>\n",
       "      <td>https://mondoweiss.net/author/mariambarghouti/</td>\n",
       "      <td>On Monday morning, February 6, Israeli forces ...</td>\n",
       "    </tr>\n",
       "    <tr>\n",
       "      <th>4</th>\n",
       "      <td>https://mondoweiss.net/2023/02/nikki-haley-who...</td>\n",
       "      <td>Nikki Haley, who once criticized AIPAC for bei...</td>\n",
       "      <td>Nikki Haley was the first U.S. governor to sig...</td>\n",
       "      <td>Michael Arria</td>\n",
       "      <td>https://mondoweiss.net/author/michael-arria/</td>\n",
       "      <td>Former South Carolina Governor and Trump offic...</td>\n",
       "    </tr>\n",
       "  </tbody>\n",
       "</table>\n",
       "</div>"
      ],
      "text/plain": [
       "                                                 url  \\\n",
       "0  https://mondoweiss.net/2023/02/with-frequent-p...   \n",
       "1  https://mondoweiss.net/2023/02/israeli-soldier...   \n",
       "2  https://mondoweiss.net/2023/02/palestinian-ref...   \n",
       "3  https://mondoweiss.net/2023/02/israeli-army-ki...   \n",
       "4  https://mondoweiss.net/2023/02/nikki-haley-who...   \n",
       "\n",
       "                                               title  \\\n",
       "0  With frequent power cuts, winters in Gaza can ...   \n",
       "1  Israeli soldiers kill 16-year-old for throwing...   \n",
       "2  Palestinian refugees among the dead in Syria, ...   \n",
       "3  Israeli army kills 5 Palestinians in raid of A...   \n",
       "4  Nikki Haley, who once criticized AIPAC for bei...   \n",
       "\n",
       "                                           sub_title            author  \\\n",
       "0  During Gaza's cold winter months, the absence ...   Tareq S. Hajjaj   \n",
       "1  Hamza Ashqar, 16, reportedly threw a piece of ...       Yumna Patel   \n",
       "2  As the death toll from a devastating earthquak...       Yumna Patel   \n",
       "3  After a ten-day siege imposed on Jericho and i...  Mariam Barghouti   \n",
       "4  Nikki Haley was the first U.S. governor to sig...     Michael Arria   \n",
       "\n",
       "                                      author_link  \\\n",
       "0      https://mondoweiss.net/author/tareqhajjaj/   \n",
       "1       https://mondoweiss.net/author/yumnapatel/   \n",
       "2       https://mondoweiss.net/author/yumnapatel/   \n",
       "3  https://mondoweiss.net/author/mariambarghouti/   \n",
       "4    https://mondoweiss.net/author/michael-arria/   \n",
       "\n",
       "                                             article  \n",
       "0  It is 11:00 p.m. on a cold and dry evening eas...  \n",
       "1  A 16-year-old Palestinian boy was shot and kil...  \n",
       "2  As the death toll from Monday’s devastating ea...  \n",
       "3  On Monday morning, February 6, Israeli forces ...  \n",
       "4  Former South Carolina Governor and Trump offic...  "
      ]
     },
     "execution_count": 61,
     "metadata": {},
     "output_type": "execute_result"
    }
   ],
   "source": [
    "df.head()"
   ]
  },
  {
   "attachments": {},
   "cell_type": "markdown",
   "metadata": {},
   "source": [
    "**View Last 5 rows of the dataframe df**"
   ]
  },
  {
   "cell_type": "code",
   "execution_count": 62,
   "metadata": {},
   "outputs": [
    {
     "data": {
      "text/html": [
       "<div>\n",
       "<style scoped>\n",
       "    .dataframe tbody tr th:only-of-type {\n",
       "        vertical-align: middle;\n",
       "    }\n",
       "\n",
       "    .dataframe tbody tr th {\n",
       "        vertical-align: top;\n",
       "    }\n",
       "\n",
       "    .dataframe thead th {\n",
       "        text-align: right;\n",
       "    }\n",
       "</style>\n",
       "<table border=\"1\" class=\"dataframe\">\n",
       "  <thead>\n",
       "    <tr style=\"text-align: right;\">\n",
       "      <th></th>\n",
       "      <th>url</th>\n",
       "      <th>title</th>\n",
       "      <th>sub_title</th>\n",
       "      <th>author</th>\n",
       "      <th>author_link</th>\n",
       "      <th>article</th>\n",
       "    </tr>\n",
       "  </thead>\n",
       "  <tbody>\n",
       "    <tr>\n",
       "      <th>20788</th>\n",
       "      <td>https://mondoweiss.net/2007/03/michael_walzer_/</td>\n",
       "      <td>Michael Walzer on Jewish Identity: Jewish Writ...</td>\n",
       "      <td>NaN</td>\n",
       "      <td>Philip Weiss</td>\n",
       "      <td>https://mondoweiss.net/author/philweiss/</td>\n",
       "      <td>I’m surprised that I’ve seen no coverage of po...</td>\n",
       "    </tr>\n",
       "    <tr>\n",
       "      <th>20789</th>\n",
       "      <td>https://mondoweiss.net/2007/03/do_americans_ha/</td>\n",
       "      <td>Do Americans Have a Say About Apartheid in Heb...</td>\n",
       "      <td>NaN</td>\n",
       "      <td>Philip Weiss</td>\n",
       "      <td>https://mondoweiss.net/author/philweiss/</td>\n",
       "      <td>M.J. Rosenberg of the Israel Policy Forum has ...</td>\n",
       "    </tr>\n",
       "    <tr>\n",
       "      <th>20790</th>\n",
       "      <td>https://mondoweiss.net/2007/03/obama_on_palest/</td>\n",
       "      <td>Obama on Palestinian Suffering</td>\n",
       "      <td>NaN</td>\n",
       "      <td>Philip Weiss</td>\n",
       "      <td>https://mondoweiss.net/author/philweiss/</td>\n",
       "      <td>Yesterday’s Times had a fine piece on the poli...</td>\n",
       "    </tr>\n",
       "    <tr>\n",
       "      <th>20791</th>\n",
       "      <td>https://mondoweiss.net/2006/12/standing_up_for/</td>\n",
       "      <td>Standing Up for Jimmy Carter’s Use of the Word...</td>\n",
       "      <td>NaN</td>\n",
       "      <td>Philip Weiss</td>\n",
       "      <td>https://mondoweiss.net/author/philweiss/</td>\n",
       "      <td>Jimmy Carter’s use of the word “apartheid” in ...</td>\n",
       "    </tr>\n",
       "    <tr>\n",
       "      <th>20792</th>\n",
       "      <td>https://mondoweiss.net/2006/10/niall_ferguson_/</td>\n",
       "      <td>Niall Ferguson Disappoints, on Jews and Money</td>\n",
       "      <td>NaN</td>\n",
       "      <td>Philip Weiss</td>\n",
       "      <td>https://mondoweiss.net/author/philweiss/</td>\n",
       "      <td>Last night Yivo Institute on W. 16th Street ho...</td>\n",
       "    </tr>\n",
       "  </tbody>\n",
       "</table>\n",
       "</div>"
      ],
      "text/plain": [
       "                                                   url  \\\n",
       "20788  https://mondoweiss.net/2007/03/michael_walzer_/   \n",
       "20789  https://mondoweiss.net/2007/03/do_americans_ha/   \n",
       "20790  https://mondoweiss.net/2007/03/obama_on_palest/   \n",
       "20791  https://mondoweiss.net/2006/12/standing_up_for/   \n",
       "20792  https://mondoweiss.net/2006/10/niall_ferguson_/   \n",
       "\n",
       "                                                   title sub_title  \\\n",
       "20788  Michael Walzer on Jewish Identity: Jewish Writ...       NaN   \n",
       "20789  Do Americans Have a Say About Apartheid in Heb...       NaN   \n",
       "20790                     Obama on Palestinian Suffering       NaN   \n",
       "20791  Standing Up for Jimmy Carter’s Use of the Word...       NaN   \n",
       "20792      Niall Ferguson Disappoints, on Jews and Money       NaN   \n",
       "\n",
       "             author                               author_link  \\\n",
       "20788  Philip Weiss  https://mondoweiss.net/author/philweiss/   \n",
       "20789  Philip Weiss  https://mondoweiss.net/author/philweiss/   \n",
       "20790  Philip Weiss  https://mondoweiss.net/author/philweiss/   \n",
       "20791  Philip Weiss  https://mondoweiss.net/author/philweiss/   \n",
       "20792  Philip Weiss  https://mondoweiss.net/author/philweiss/   \n",
       "\n",
       "                                                 article  \n",
       "20788  I’m surprised that I’ve seen no coverage of po...  \n",
       "20789  M.J. Rosenberg of the Israel Policy Forum has ...  \n",
       "20790  Yesterday’s Times had a fine piece on the poli...  \n",
       "20791  Jimmy Carter’s use of the word “apartheid” in ...  \n",
       "20792  Last night Yivo Institute on W. 16th Street ho...  "
      ]
     },
     "execution_count": 62,
     "metadata": {},
     "output_type": "execute_result"
    }
   ],
   "source": [
    "df.tail()"
   ]
  },
  {
   "attachments": {},
   "cell_type": "markdown",
   "metadata": {},
   "source": [
    "**View Quick Description of the csv file**"
   ]
  },
  {
   "cell_type": "code",
   "execution_count": 63,
   "metadata": {},
   "outputs": [
    {
     "data": {
      "text/html": [
       "<div>\n",
       "<style scoped>\n",
       "    .dataframe tbody tr th:only-of-type {\n",
       "        vertical-align: middle;\n",
       "    }\n",
       "\n",
       "    .dataframe tbody tr th {\n",
       "        vertical-align: top;\n",
       "    }\n",
       "\n",
       "    .dataframe thead th {\n",
       "        text-align: right;\n",
       "    }\n",
       "</style>\n",
       "<table border=\"1\" class=\"dataframe\">\n",
       "  <thead>\n",
       "    <tr style=\"text-align: right;\">\n",
       "      <th></th>\n",
       "      <th>url</th>\n",
       "      <th>title</th>\n",
       "      <th>sub_title</th>\n",
       "      <th>author</th>\n",
       "      <th>author_link</th>\n",
       "      <th>article</th>\n",
       "    </tr>\n",
       "  </thead>\n",
       "  <tbody>\n",
       "    <tr>\n",
       "      <th>count</th>\n",
       "      <td>20793</td>\n",
       "      <td>20742</td>\n",
       "      <td>834</td>\n",
       "      <td>20748</td>\n",
       "      <td>20748</td>\n",
       "      <td>20472</td>\n",
       "    </tr>\n",
       "    <tr>\n",
       "      <th>unique</th>\n",
       "      <td>20793</td>\n",
       "      <td>20657</td>\n",
       "      <td>834</td>\n",
       "      <td>1299</td>\n",
       "      <td>1304</td>\n",
       "      <td>20402</td>\n",
       "    </tr>\n",
       "    <tr>\n",
       "      <th>top</th>\n",
       "      <td>https://mondoweiss.net/2023/02/with-frequent-p...</td>\n",
       "      <td>In their own words</td>\n",
       "      <td>During Gaza's cold winter months, the absence ...</td>\n",
       "      <td>Philip Weiss</td>\n",
       "      <td>https://mondoweiss.net/author/philweiss/</td>\n",
       "      <td>groups.yahoo.com/group/f_shadi (listserv) www....</td>\n",
       "    </tr>\n",
       "    <tr>\n",
       "      <th>freq</th>\n",
       "      <td>1</td>\n",
       "      <td>11</td>\n",
       "      <td>1</td>\n",
       "      <td>8078</td>\n",
       "      <td>8078</td>\n",
       "      <td>7</td>\n",
       "    </tr>\n",
       "  </tbody>\n",
       "</table>\n",
       "</div>"
      ],
      "text/plain": [
       "                                                      url               title  \\\n",
       "count                                               20793               20742   \n",
       "unique                                              20793               20657   \n",
       "top     https://mondoweiss.net/2023/02/with-frequent-p...  In their own words   \n",
       "freq                                                    1                  11   \n",
       "\n",
       "                                                sub_title        author  \\\n",
       "count                                                 834         20748   \n",
       "unique                                                834          1299   \n",
       "top     During Gaza's cold winter months, the absence ...  Philip Weiss   \n",
       "freq                                                    1          8078   \n",
       "\n",
       "                                     author_link  \\\n",
       "count                                      20748   \n",
       "unique                                      1304   \n",
       "top     https://mondoweiss.net/author/philweiss/   \n",
       "freq                                        8078   \n",
       "\n",
       "                                                  article  \n",
       "count                                               20472  \n",
       "unique                                              20402  \n",
       "top     groups.yahoo.com/group/f_shadi (listserv) www....  \n",
       "freq                                                    7  "
      ]
     },
     "execution_count": 63,
     "metadata": {},
     "output_type": "execute_result"
    }
   ],
   "source": [
    "df.describe()"
   ]
  },
  {
   "attachments": {},
   "cell_type": "markdown",
   "metadata": {},
   "source": [
    "**Locating Author**"
   ]
  },
  {
   "cell_type": "code",
   "execution_count": 64,
   "metadata": {},
   "outputs": [
    {
     "data": {
      "text/plain": [
       "14475    Monalisa\n",
       "Name: author, dtype: object"
      ]
     },
     "execution_count": 64,
     "metadata": {},
     "output_type": "execute_result"
    }
   ],
   "source": [
    "df.loc[df['author'] == 'Monalisa', 'author']"
   ]
  },
  {
   "cell_type": "code",
   "execution_count": 65,
   "metadata": {},
   "outputs": [
    {
     "data": {
      "text/plain": [
       "16       Philip Weiss\n",
       "24       Philip Weiss\n",
       "26       Philip Weiss\n",
       "29       Philip Weiss\n",
       "31       Philip Weiss\n",
       "             ...     \n",
       "20788    Philip Weiss\n",
       "20789    Philip Weiss\n",
       "20790    Philip Weiss\n",
       "20791    Philip Weiss\n",
       "20792    Philip Weiss\n",
       "Name: author, Length: 8078, dtype: object"
      ]
     },
     "execution_count": 65,
     "metadata": {},
     "output_type": "execute_result"
    }
   ],
   "source": [
    "df.loc[df['author'] == 'Philip Weiss', 'author'] #used to select all the rows in the DataFrame df where the value in the 'author' column is equal to 'Philip Weiss'"
   ]
  },
  {
   "cell_type": "code",
   "execution_count": 66,
   "metadata": {},
   "outputs": [
    {
     "data": {
      "text/plain": [
       "\" \\nName: author = indicates the name of the selected column\\nLength: 8078 =  tells us the number of rows that satisfy the condition df['author'] == 'Philip Weiss', which is 8078 in this case.\\ndtype: object = indicates the data type of the values in that column (which is 'object' in this case \\nbecause the 'author' column contains string values) \\n\""
      ]
     },
     "execution_count": 66,
     "metadata": {},
     "output_type": "execute_result"
    }
   ],
   "source": [
    "\"\"\" \n",
    "Name: author = indicates the name of the selected column\n",
    "Length: 8078 =  tells us the number of rows that satisfy the condition df['author'] == 'Philip Weiss', which is 8078 in this case.\n",
    "dtype: object = indicates the data type of the values in that column (which is 'object' in this case \n",
    "because the 'author' column contains string values) \n",
    "\"\"\""
   ]
  },
  {
   "attachments": {},
   "cell_type": "markdown",
   "metadata": {},
   "source": [
    "**Count the Number of Missing Values** "
   ]
  },
  {
   "cell_type": "code",
   "execution_count": 67,
   "metadata": {},
   "outputs": [
    {
     "data": {
      "text/plain": [
       "url                0\n",
       "title             51\n",
       "sub_title      19959\n",
       "author            45\n",
       "author_link       45\n",
       "article          321\n",
       "dtype: int64"
      ]
     },
     "execution_count": 67,
     "metadata": {},
     "output_type": "execute_result"
    }
   ],
   "source": [
    "df.isna().sum()"
   ]
  },
  {
   "attachments": {},
   "cell_type": "markdown",
   "metadata": {},
   "source": [
    "**Remove Rows with Missing Values in the 'title','article', and 'author' Columns (then recheck afterwards)** "
   ]
  },
  {
   "cell_type": "code",
   "execution_count": 68,
   "metadata": {},
   "outputs": [
    {
     "data": {
      "text/plain": [
       "url                0\n",
       "title              0\n",
       "sub_title      19627\n",
       "author             0\n",
       "author_link        0\n",
       "article            0\n",
       "dtype: int64"
      ]
     },
     "execution_count": 68,
     "metadata": {},
     "output_type": "execute_result"
    }
   ],
   "source": [
    "df.dropna(subset=['title'], inplace=True)\n",
    "df.dropna(subset=['article'], inplace=True)\n",
    "df.dropna(subset=['author'], inplace=True)\n",
    "df.isna().sum()"
   ]
  },
  {
   "cell_type": "code",
   "execution_count": 69,
   "metadata": {},
   "outputs": [
    {
     "data": {
      "text/plain": [
       "\"\\ndropna() method = drops rows that have at least one missing value\\nsubset=['title'] parameter = specifies that only rows with missing values in the 'title' column should be dropped.\\ninplace=True parameter = tells the method to modify the DataFrame df in place, rather than returning a new DataFrame. \\nThis means that the original DataFrame df will be updated with the rows that have missing values in the 'title' column removed.\\n\""
      ]
     },
     "execution_count": 69,
     "metadata": {},
     "output_type": "execute_result"
    }
   ],
   "source": [
    "\"\"\"\n",
    "dropna() method = drops rows that have at least one missing value\n",
    "subset=['title'] parameter = specifies that only rows with missing values in the 'title' column should be dropped.\n",
    "inplace=True parameter = tells the method to modify the DataFrame df in place, rather than returning a new DataFrame. \n",
    "This means that the original DataFrame df will be updated with the rows that have missing values in the 'title' column removed.\n",
    "\"\"\""
   ]
  },
  {
   "cell_type": "code",
   "execution_count": 70,
   "metadata": {},
   "outputs": [
    {
     "data": {
      "text/html": [
       "<div>\n",
       "<style scoped>\n",
       "    .dataframe tbody tr th:only-of-type {\n",
       "        vertical-align: middle;\n",
       "    }\n",
       "\n",
       "    .dataframe tbody tr th {\n",
       "        vertical-align: top;\n",
       "    }\n",
       "\n",
       "    .dataframe thead th {\n",
       "        text-align: right;\n",
       "    }\n",
       "</style>\n",
       "<table border=\"1\" class=\"dataframe\">\n",
       "  <thead>\n",
       "    <tr style=\"text-align: right;\">\n",
       "      <th></th>\n",
       "      <th>url</th>\n",
       "      <th>title</th>\n",
       "      <th>sub_title</th>\n",
       "      <th>author</th>\n",
       "      <th>author_link</th>\n",
       "      <th>article</th>\n",
       "    </tr>\n",
       "  </thead>\n",
       "  <tbody>\n",
       "    <tr>\n",
       "      <th>count</th>\n",
       "      <td>20460</td>\n",
       "      <td>20460</td>\n",
       "      <td>833</td>\n",
       "      <td>20460</td>\n",
       "      <td>20460</td>\n",
       "      <td>20460</td>\n",
       "    </tr>\n",
       "    <tr>\n",
       "      <th>unique</th>\n",
       "      <td>20460</td>\n",
       "      <td>20377</td>\n",
       "      <td>833</td>\n",
       "      <td>1271</td>\n",
       "      <td>1275</td>\n",
       "      <td>20390</td>\n",
       "    </tr>\n",
       "    <tr>\n",
       "      <th>top</th>\n",
       "      <td>https://mondoweiss.net/2023/02/with-frequent-p...</td>\n",
       "      <td>In their own words</td>\n",
       "      <td>During Gaza's cold winter months, the absence ...</td>\n",
       "      <td>Philip Weiss</td>\n",
       "      <td>https://mondoweiss.net/author/philweiss/</td>\n",
       "      <td>groups.yahoo.com/group/f_shadi (listserv) www....</td>\n",
       "    </tr>\n",
       "    <tr>\n",
       "      <th>freq</th>\n",
       "      <td>1</td>\n",
       "      <td>11</td>\n",
       "      <td>1</td>\n",
       "      <td>8040</td>\n",
       "      <td>8040</td>\n",
       "      <td>7</td>\n",
       "    </tr>\n",
       "  </tbody>\n",
       "</table>\n",
       "</div>"
      ],
      "text/plain": [
       "                                                      url               title  \\\n",
       "count                                               20460               20460   \n",
       "unique                                              20460               20377   \n",
       "top     https://mondoweiss.net/2023/02/with-frequent-p...  In their own words   \n",
       "freq                                                    1                  11   \n",
       "\n",
       "                                                sub_title        author  \\\n",
       "count                                                 833         20460   \n",
       "unique                                                833          1271   \n",
       "top     During Gaza's cold winter months, the absence ...  Philip Weiss   \n",
       "freq                                                    1          8040   \n",
       "\n",
       "                                     author_link  \\\n",
       "count                                      20460   \n",
       "unique                                      1275   \n",
       "top     https://mondoweiss.net/author/philweiss/   \n",
       "freq                                        8040   \n",
       "\n",
       "                                                  article  \n",
       "count                                               20460  \n",
       "unique                                              20390  \n",
       "top     groups.yahoo.com/group/f_shadi (listserv) www....  \n",
       "freq                                                    7  "
      ]
     },
     "execution_count": 70,
     "metadata": {},
     "output_type": "execute_result"
    }
   ],
   "source": [
    "df.describe()"
   ]
  },
  {
   "attachments": {},
   "cell_type": "markdown",
   "metadata": {},
   "source": [
    "**Removing specific object in a column (then recheck if it still exists)**"
   ]
  },
  {
   "cell_type": "code",
   "execution_count": 71,
   "metadata": {},
   "outputs": [
    {
     "data": {
      "text/html": [
       "<div>\n",
       "<style scoped>\n",
       "    .dataframe tbody tr th:only-of-type {\n",
       "        vertical-align: middle;\n",
       "    }\n",
       "\n",
       "    .dataframe tbody tr th {\n",
       "        vertical-align: top;\n",
       "    }\n",
       "\n",
       "    .dataframe thead th {\n",
       "        text-align: right;\n",
       "    }\n",
       "</style>\n",
       "<table border=\"1\" class=\"dataframe\">\n",
       "  <thead>\n",
       "    <tr style=\"text-align: right;\">\n",
       "      <th></th>\n",
       "      <th>url</th>\n",
       "      <th>title</th>\n",
       "      <th>sub_title</th>\n",
       "      <th>author</th>\n",
       "      <th>author_link</th>\n",
       "      <th>article</th>\n",
       "    </tr>\n",
       "  </thead>\n",
       "  <tbody>\n",
       "    <tr>\n",
       "      <th>count</th>\n",
       "      <td>20459</td>\n",
       "      <td>20459</td>\n",
       "      <td>833</td>\n",
       "      <td>20459</td>\n",
       "      <td>20459</td>\n",
       "      <td>20459</td>\n",
       "    </tr>\n",
       "    <tr>\n",
       "      <th>unique</th>\n",
       "      <td>20459</td>\n",
       "      <td>20376</td>\n",
       "      <td>833</td>\n",
       "      <td>1270</td>\n",
       "      <td>1274</td>\n",
       "      <td>20389</td>\n",
       "    </tr>\n",
       "    <tr>\n",
       "      <th>top</th>\n",
       "      <td>https://mondoweiss.net/2023/02/with-frequent-p...</td>\n",
       "      <td>In their own words</td>\n",
       "      <td>During Gaza's cold winter months, the absence ...</td>\n",
       "      <td>Philip Weiss</td>\n",
       "      <td>https://mondoweiss.net/author/philweiss/</td>\n",
       "      <td>groups.yahoo.com/group/f_shadi (listserv) www....</td>\n",
       "    </tr>\n",
       "    <tr>\n",
       "      <th>freq</th>\n",
       "      <td>1</td>\n",
       "      <td>11</td>\n",
       "      <td>1</td>\n",
       "      <td>8040</td>\n",
       "      <td>8040</td>\n",
       "      <td>7</td>\n",
       "    </tr>\n",
       "  </tbody>\n",
       "</table>\n",
       "</div>"
      ],
      "text/plain": [
       "                                                      url               title  \\\n",
       "count                                               20459               20459   \n",
       "unique                                              20459               20376   \n",
       "top     https://mondoweiss.net/2023/02/with-frequent-p...  In their own words   \n",
       "freq                                                    1                  11   \n",
       "\n",
       "                                                sub_title        author  \\\n",
       "count                                                 833         20459   \n",
       "unique                                                833          1270   \n",
       "top     During Gaza's cold winter months, the absence ...  Philip Weiss   \n",
       "freq                                                    1          8040   \n",
       "\n",
       "                                     author_link  \\\n",
       "count                                      20459   \n",
       "unique                                      1274   \n",
       "top     https://mondoweiss.net/author/philweiss/   \n",
       "freq                                        8040   \n",
       "\n",
       "                                                  article  \n",
       "count                                               20459  \n",
       "unique                                              20389  \n",
       "top     groups.yahoo.com/group/f_shadi (listserv) www....  \n",
       "freq                                                    7  "
      ]
     },
     "execution_count": 71,
     "metadata": {},
     "output_type": "execute_result"
    }
   ],
   "source": [
    "df.drop(df[df['author'] == 'Monalisa'].index, inplace=True)\n",
    "df.describe()"
   ]
  },
  {
   "cell_type": "code",
   "execution_count": 72,
   "metadata": {},
   "outputs": [
    {
     "data": {
      "text/plain": [
       "Series([], Name: author, dtype: object)"
      ]
     },
     "execution_count": 72,
     "metadata": {},
     "output_type": "execute_result"
    }
   ],
   "source": [
    "df.loc[df['author'] == 'Monalisa', 'author']"
   ]
  },
  {
   "attachments": {},
   "cell_type": "markdown",
   "metadata": {},
   "source": [
    "**Remove Duplicates from the DataFrame and Keep Only One Instance of the Most Common Value in the 'title' column**"
   ]
  },
  {
   "cell_type": "code",
   "execution_count": 76,
   "metadata": {},
   "outputs": [
    {
     "data": {
      "text/plain": [
       "16       Philip Weiss\n",
       "24       Philip Weiss\n",
       "26       Philip Weiss\n",
       "29       Philip Weiss\n",
       "31       Philip Weiss\n",
       "             ...     \n",
       "20788    Philip Weiss\n",
       "20789    Philip Weiss\n",
       "20790    Philip Weiss\n",
       "20791    Philip Weiss\n",
       "20792    Philip Weiss\n",
       "Name: author, Length: 7994, dtype: object"
      ]
     },
     "execution_count": 76,
     "metadata": {},
     "output_type": "execute_result"
    }
   ],
   "source": [
    "df.drop_duplicates(subset='title', keep='first', inplace=True)\n",
    "df.drop_duplicates(subset='article', keep='first', inplace=True)\n",
    "df.describe()"
   ]
  },
  {
   "cell_type": "code",
   "execution_count": 74,
   "metadata": {},
   "outputs": [
    {
     "data": {
      "text/plain": [
       "'\\ndrop_duplicates() method with the subset parameter\\nThis will remove all rows that have a duplicate value in the title and article column, except for the first occurrence of the most common value. \\ninplace=True parameter = modifies the original DataFrame instead of returning a new one. Note that if there are multiple values that occur equally frequently in the title column, this method will only keep the first one that it encounters.\\n'"
      ]
     },
     "execution_count": 74,
     "metadata": {},
     "output_type": "execute_result"
    }
   ],
   "source": [
    "\"\"\"\n",
    "drop_duplicates() method with the subset parameter\n",
    "This will remove all rows that have a duplicate value in the title and article column, except for the first occurrence of the most common value. \n",
    "inplace=True parameter = modifies the original DataFrame instead of returning a new one. Note that if there are multiple values that occur equally frequently in the title column, this method will only keep the first one that it encounters.\n",
    "\"\"\""
   ]
  },
  {
   "cell_type": "markdown",
   "metadata": {},
   "source": [
    "**Saving the new dataframe (df) as a csv file without including the index column**\n",
    "\n"
   ]
  },
  {
   "cell_type": "code",
   "execution_count": 75,
   "metadata": {},
   "outputs": [],
   "source": [
    "df.to_csv('updated_mondoweiss-20k-articles.csv', index=False)"
   ]
  },
  {
   "cell_type": "code",
   "execution_count": null,
   "metadata": {},
   "outputs": [],
   "source": []
  }
 ],
 "metadata": {
  "kernelspec": {
   "display_name": "base",
   "language": "python",
   "name": "python3"
  },
  "language_info": {
   "codemirror_mode": {
    "name": "ipython",
    "version": 3
   },
   "file_extension": ".py",
   "mimetype": "text/x-python",
   "name": "python",
   "nbconvert_exporter": "python",
   "pygments_lexer": "ipython3",
   "version": "3.9.13"
  },
  "orig_nbformat": 4
 },
 "nbformat": 4,
 "nbformat_minor": 2
}
